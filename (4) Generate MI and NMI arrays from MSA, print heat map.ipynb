{
 "cells": [
  {
   "cell_type": "code",
   "execution_count": 39,
   "metadata": {},
   "outputs": [],
   "source": [
    "import MI_analyzer as mia # Contains mutual information calculations and the blue-red heat map plotter.\n",
    "import NMI_analyzer as nmia # Contains normalized mutual information calculations and the binary heat map plotter.\n",
    "import fasta_to_numpy as ftn # Turns an alignment into a numpy array.\n",
    "import pandas\n",
    "\n",
    "# First: import our multiple sequence alignment, parse it, reverse complement, and turn it into a numpy array.\n",
    "np_alignment = ftn.Parse_and_reverse_complement('Segment 5 - First-Last 200/Segment 5 NP Aligned and Trimmed First \\\n",
    "and Last 200 nt.fasta')"
   ]
  },
  {
   "cell_type": "code",
   "execution_count": 40,
   "metadata": {},
   "outputs": [
    {
     "name": "stdout",
     "output_type": "stream",
     "text": [
      "[['T' 'C' 'A' ..., 'C' 'A' 'T']\n",
      " ['T' 'T' 'A' ..., 'C' 'A' 'T']\n",
      " ['T' 'T' 'A' ..., 'C' 'A' 'T']\n",
      " ..., \n",
      " ['T' 'C' 'A' ..., 'C' 'A' 'T']\n",
      " ['T' 'C' 'A' ..., 'C' 'A' 'T']\n",
      " ['T' 'C' 'A' ..., 'C' 'A' 'T']]\n"
     ]
    }
   ],
   "source": [
    "print np_alignment"
   ]
  },
  {
   "cell_type": "code",
   "execution_count": 41,
   "metadata": {},
   "outputs": [],
   "source": [
    "# Measure the normalized and regular mutual information, put each into its own array.\n",
    "nmi_vector  = nmia.Calculate_NMI(np_alignment)\n",
    "mi_vector  = mia.Calculate_MI(np_alignment)"
   ]
  },
  {
   "cell_type": "code",
   "execution_count": 43,
   "metadata": {},
   "outputs": [],
   "source": [
    "\"\"\"\n",
    "The MI_analyzer and NMI_analyzer scripts both create a square array with diagonal symmetry. This is important in case\n",
    "I ever run the scripts individually, in which case I'd want a square matrix to plot. For our figure, though, I combine\n",
    "half of each array into a single array that contains both MI and NMI. I do this by turning the arrays into pandas\n",
    "dataframes, which are easier to work with, and them turning them back into numpy arrays.\n",
    "\"\"\"\n",
    "\n",
    "# Turn both arrays into Pandas dataframes\n",
    "mi_pandas = pandas.DataFrame(mi_vector)\n",
    "nmi_pandas = pandas.DataFrame(nmi_vector)\n",
    "\n",
    "# Replace the upper half of the NMI dataframe with the values from the MI dataframe\n",
    "for i in range(len(mi_pandas)):\n",
    "    for j in range(len(mi_pandas)):\n",
    "        if i < j:\n",
    "            nmi_pandas[i][j] = mi_pandas[i][j]\n",
    "\n",
    "# Set the diagonal to 1 (it had been artificially set to 0 in the NMI_analyzer)\n",
    "for i in range(len(mi_pandas)):\n",
    "    nmi_pandas[i][i] = 1.0\n",
    "    \n",
    "# Turn the finalized MI-NMI dataframe back into a numpy array, which is the input for the plot function.\n",
    "both_info = nmi_pandas.as_matrix()"
   ]
  },
  {
   "cell_type": "code",
   "execution_count": null,
   "metadata": {},
   "outputs": [],
   "source": [
    "# Plot the MI-NMI heat map.\n",
    "fig = mia.Plot_Binary(both_info, \"Seg5_FL200 Both Info Scores.pdf\", cmap='PuBu')"
   ]
  },
  {
   "cell_type": "code",
   "execution_count": null,
   "metadata": {},
   "outputs": [],
   "source": []
  }
 ],
 "metadata": {
  "kernelspec": {
   "display_name": "Python 3",
   "language": "python",
   "name": "python3"
  },
  "language_info": {
   "codemirror_mode": {
    "name": "ipython",
    "version": 3
   },
   "file_extension": ".py",
   "mimetype": "text/x-python",
   "name": "python",
   "nbconvert_exporter": "python",
   "pygments_lexer": "ipython3",
   "version": "3.7.3"
  }
 },
 "nbformat": 4,
 "nbformat_minor": 1
}
