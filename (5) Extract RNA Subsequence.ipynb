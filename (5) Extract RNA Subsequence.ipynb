{
 "cells": [
  {
   "cell_type": "code",
   "execution_count": 1,
   "metadata": {},
   "outputs": [],
   "source": [
    "import pandas as pd\n",
    "import numpy as np\n",
    "from Bio import AlignIO\n",
    "from Bio import SeqIO\n",
    "from Bio.SeqRecord import SeqRecord\n",
    "from Bio.Seq import Seq\n",
    "from Bio.Alphabet import generic_dna\n",
    "import random\n",
    "\n",
    "## Souparno Ghosh\n",
    "# This code was used to extract subsequences of specified length from each terminus of Segment 8\n",
    "# so that those extracted sequences could be used as input to RNAalifold of ViennaRNA package"
   ]
  },
  {
   "cell_type": "code",
   "execution_count": 2,
   "metadata": {},
   "outputs": [],
   "source": [
    "#alignment = AlignIO.read('Segment 8 NS1 54 NT Gap Ends.fasta', 'fasta')\n",
    "alignment_full = AlignIO.read('Segment 5 NP Aligned and Trimmed First and Last 100 nt.fasta', 'fasta')\n"
   ]
  },
  {
   "cell_type": "code",
   "execution_count": 4,
   "metadata": {},
   "outputs": [
    {
     "name": "stdout",
     "output_type": "stream",
     "text": [
      "SingleLetterAlphabet() alignment with 2895 rows and 200 columns\n",
      "ATGGCGTCTCAAGGCACCAAACGATCATATGAACAAATGGAGAC...TGA CY066978\n",
      "ATGGCGTCCCAAGGCACCAAACGGTCATATGAACAGATGGAAAC...TAA CY026038\n",
      "ATGGCGTCCCAAGGCACCAAACGGTCTTATGAACAGATGGAAAC...TAA CY025862\n",
      "ATGGCGTTCCAAGGCACCAAACGGTCTTATGAACAGATGGAAAC...TAA CY020544\n",
      "ATGGCGTCCCAAGGCACCAAACGGTCTTATGAACAGATGGAAAC...TAA CY020384\n",
      "ATGGCGTCTCAAGGCACCAAACGATCTTATGAACAGATGGAAAC...TAA CY079455\n",
      "ATGGCGTCTCAAGGCACCAAACGATCTTATGAGCAGATGGAAAC...TAA CY138772\n",
      "ATGGCGTCTCAAGGCACCAAACGATCTTATGAACAGATGGAAAC...TAA CY138845\n",
      "ATGGCGTCTCAAGGCACCAAACGATCTTATGAGCAGATGGAAAC...TAA CY138853\n",
      "ATGGCGTCTCAAGGCACCAAACGATCTTATGAGCAGATGGAAAC...TAA CY138861\n",
      "ATGGCGTCTCAAGGCACCAAACGATCTTATGAGCAGATGGAAAC...TAA CY138968\n",
      "ATGGCGTCTCAAGGCACCAAACGATCTTATGAGCAGATGGAAAC...TAA CY139415\n",
      "ATGGCGTCTCAAGGCACCAAACGATCCTATGAACAAATGGAAAC...TAA CY139433\n",
      "ATGGCGTCTCAAGGCACCAAACGATCTTATGAACAGATGGAAAC...TAA CY139462\n",
      "ATGGCGTCTCAAGGCACCAAACGATCTTATGAACAAATGGAAAC...TAA CY129377\n",
      "ATGGCGTCTCAAGGCACCAAACGATCTTATGAGCAGATGGAAAC...TAA CY129337\n",
      "ATGGCGTCTCAAGGCACCAAACGATCTTATGAACAAATGGAAAC...TAA CY129153\n",
      "ATGGCGTCTCAAGGCACCAAACGATCTTATGAACAGATGGAAAC...TGA CY129321\n",
      "...\n",
      "ATGGCGTCTCAAGGCACCAAACGATCATATGAACAAATGGAGAC...TGA GQ457556\n"
     ]
    }
   ],
   "source": [
    "print alignment_full"
   ]
  },
  {
   "cell_type": "code",
   "execution_count": 11,
   "metadata": {},
   "outputs": [],
   "source": [
    "num_positions = 10 # change this variable to the desired length.\n",
    "alignment = alignment_full[:,0:num_positions] "
   ]
  },
  {
   "cell_type": "code",
   "execution_count": 12,
   "metadata": {},
   "outputs": [],
   "source": [
    "RC = []\n",
    "for i,j in enumerate(alignment):\n",
    "#RNA = alignment[0].seq.transcribe()\n",
    "#print RNA\n",
    "    #print i,j\n",
    "    #print alignment[0]\n",
    "    RC.append(alignment[i].reverse_complement(id = alignment[i].id))\n",
    "#print RC\n",
    "\n",
    "RC_RNA = []\n",
    "RNA = \"\"\n",
    "for i,record in enumerate(RC):\n",
    "    new_record = SeqRecord(record.seq,record.id)\n",
    "    RNA = RC[i].seq.transcribe()\n",
    "    new_record.seq = RNA\n",
    "    RC_RNA.append(new_record)\n",
    "\t\t\n",
    "# print RC_RNA   \n"
   ]
  },
  {
   "cell_type": "code",
   "execution_count": 13,
   "metadata": {},
   "outputs": [],
   "source": [
    "# Change the filename in output_handle to make sure that it is ok. \n",
    "output_handle = open(\"Segment 5 First %s Positions for Folding.aln\" % num_positions, \"w\")\n",
    "\n",
    "# Write a sampled set of 400 sequences to disk. This will be the input for \n",
    "# ViennaRNA's RNAalifold program.\n",
    "SeqIO.write(random.sample(RC_RNA,400), output_handle, \"clustal\")\n",
    "output_handle.close()\n",
    "\t\t\t"
   ]
  },
  {
   "cell_type": "code",
   "execution_count": null,
   "metadata": {},
   "outputs": [],
   "source": []
  }
 ],
 "metadata": {
  "kernelspec": {
   "display_name": "Python 3",
   "language": "python",
   "name": "python3"
  },
  "language_info": {
   "codemirror_mode": {
    "name": "ipython",
    "version": 3
   },
   "file_extension": ".py",
   "mimetype": "text/x-python",
   "name": "python",
   "nbconvert_exporter": "python",
   "pygments_lexer": "ipython3",
   "version": "3.7.3"
  }
 },
 "nbformat": 4,
 "nbformat_minor": 1
}
